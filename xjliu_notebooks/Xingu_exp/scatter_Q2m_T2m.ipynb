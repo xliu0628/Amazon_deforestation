{
 "cells": [
  {
   "cell_type": "code",
   "execution_count": 20,
   "metadata": {},
   "outputs": [],
   "source": [
    "%matplotlib inline\n",
    "import pandas as pd\n",
    "import matplotlib.pyplot as plt\n",
    "import numpy as np\n",
    "import xarray\n",
    "import glob\n",
    "import matplotlib.colors as colors\n",
    "from matplotlib import cm, animation\n",
    "from matplotlib.colors import ListedColormap, LinearSegmentedColormap\n",
    "from netCDF4 import Dataset\n",
    "\n",
    "import scipy.stats as stats\n",
    "import random"
   ]
  },
  {
   "cell_type": "code",
   "execution_count": 21,
   "metadata": {},
   "outputs": [],
   "source": [
    "path = '/ocean/projects/ees210014p/xjliu/Xingu_exp_10day/'\n",
    "year1=np.arange(2001,2010)\n",
    "years=np.append(year1,np.arange(2011,2021))\n",
    "\n",
    "file=path+'Xingu_2005_bigclearing/3Dfields_d01_2005-11-10_00:00:00'\n",
    "with xarray.open_dataset(file,decode_times=False,\n",
    "                         mask_and_scale='True') as ds:\n",
    "    lats=ds['XLAT'][0,:,0]\n",
    "    lons=ds['XLONG'][0,0,:]\n",
    "    luindex=ds['LU_INDEX'][0,:,:]"
   ]
  },
  {
   "cell_type": "code",
   "execution_count": 22,
   "metadata": {},
   "outputs": [],
   "source": [
    "#### Q2 and T2\n",
    "time_sel = []\n",
    "for ii in range(10+3,17+3): #10am to 5pm\n",
    "    for iday in range(1):\n",
    "        time_sel.append(ii+24*iday)\n",
    "\n",
    "Q2_mn = np.empty(19)\n",
    "T2_mn = np.empty(19)\n",
    "LH_mn = np.empty(19)\n",
    "\n",
    "for ii, year in enumerate(years):\n",
    "    file = path+'post_processing/Q2T2.'+str(year)+'.obs.nc'\n",
    "    with xarray.open_dataset(file,decode_times=False,\n",
    "                         mask_and_scale='True') as ds:\n",
    "        pass\n",
    "    \n",
    "    file = path+'post_processing/energy.'+str(year)+'.obs.ndays.nc'\n",
    "    with xarray.open_dataset(file,decode_times=False,\n",
    "                         mask_and_scale='True') as ds1:\n",
    "        pass\n",
    "    ### Mask using LUindex\n",
    "    q2=ds['Q2'][time_sel,:,:].where((luindex==12))*1000 # clearing\n",
    "    t2=ds['T2'][time_sel,:,:].where((luindex==12)) # clearing\n",
    "    lh=ds1['LH'][time_sel,:,:].where((luindex==12)) # clearing\n",
    "\n",
    "    Q2_mn[ii] = q2.mean(('Time','south_north', 'west_east'))\n",
    "    T2_mn[ii] = t2.mean(('Time','south_north', 'west_east'))\n",
    "    LH_mn[ii] = lh.mean(('Time','south_north', 'west_east'))"
   ]
  },
  {
   "cell_type": "code",
   "execution_count": 37,
   "metadata": {},
   "outputs": [
    {
     "data": {
      "text/plain": [
       "[2005,\n",
       " 2008,\n",
       " 2007,\n",
       " 2019,\n",
       " 2004,\n",
       " 2015,\n",
       " 2012,\n",
       " 2020,\n",
       " 2017,\n",
       " 2016,\n",
       " 2003,\n",
       " 2014,\n",
       " 2018,\n",
       " 2001,\n",
       " 2009,\n",
       " 2013,\n",
       " 2002,\n",
       " 2006,\n",
       " 2011]"
      ]
     },
     "execution_count": 37,
     "metadata": {},
     "output_type": "execute_result"
    }
   ],
   "source": [
    "neg_years+pos_years"
   ]
  },
  {
   "cell_type": "code",
   "execution_count": 39,
   "metadata": {},
   "outputs": [
    {
     "data": {
      "text/plain": [
       "<matplotlib.legend.Legend at 0x14be153237f0>"
      ]
     },
     "execution_count": 39,
     "metadata": {},
     "output_type": "execute_result"
    },
    {
     "data": {
      "image/png": "[encoded data removed]",
      "text/plain": [
       "<Figure size 576x576 with 1 Axes>"
      ]
     },
     "metadata": {
      "needs_background": "light"
     },
     "output_type": "display_data"
    }
   ],
   "source": [
    "fig,axes = plt.subplots(1,1,figsize=(8,8),sharex=True,sharey=True)\n",
    "plt.set_cmap('tab20')\n",
    "markers = ['.','o','v','^','<','>','2','s','p','P','*','+','x','X','d','D','h','H','1']\n",
    "\n",
    "LH_mn_std = (LH_mn-LH_mn.mean())/(LH_mn.std())\n",
    "neg_years = [2005,2008,2007,2019,2004,2015,2012,2020,2017,2016,2003,2014]\n",
    "pos_years = [2018,2001,2009,2013,2002,2006,2011]\n",
    "\n",
    "for ii, years in enumerate(neg_years): ## strongly negative values\n",
    "    axes.scatter(T2_mn[ii],Q2_mn[ii],s=abs(LH_mn_std[ii])*361,marker=markers[ii],color='r')\n",
    "\n",
    "for ii, years in enumerate(pos_years): # less negative or positive\n",
    "    axes.scatter(T2_mn[ii],Q2_mn[ii],s=abs(LH_mn_std[ii])*361,marker=markers[ii],color='g')\n",
    "\n",
    "#axes.legend(pos_years,loc='center left',ncol=2,markerscale=0.6)\n",
    "axes.legend(neg_years+pos_years,loc='upper left',ncol=3,markerscale=0.6)\n",
    "\n",
    "#plt.legend(years,loc='upper left',ncol=3,markerscale=0.6)\n",
    "#plt.xlabel('Daytime Temperature at 2m')\n",
    "#plt.ylabel('Specific humidity at 2m')"
   ]
  },
  {
   "cell_type": "code",
   "execution_count": null,
   "metadata": {},
   "outputs": [],
   "source": []
  }
 ],
 "metadata": {
  "kernelspec": {
   "display_name": "Python_Xiaojuan",
   "language": "python",
   "name": "xiaojuan_python"
  },
  "language_info": {
   "codemirror_mode": {
    "name": "ipython",
    "version": 3
   },
   "file_extension": ".py",
   "mimetype": "text/x-python",
   "name": "python",
   "nbconvert_exporter": "python",
   "pygments_lexer": "ipython3",
   "version": "3.9.5"
  }
 },
 "nbformat": 4,
 "nbformat_minor": 4
}
