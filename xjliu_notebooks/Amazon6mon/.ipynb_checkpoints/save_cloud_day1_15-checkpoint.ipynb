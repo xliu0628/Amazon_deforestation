{
 "cells": [
  {
   "cell_type": "code",
   "execution_count": 1,
   "metadata": {},
   "outputs": [],
   "source": [
    "%matplotlib inline\n",
    "import numpy as np\n",
    "import pandas as pd\n",
    "import matplotlib.pyplot as plt\n",
    "import xarray\n",
    "import time\n",
    "import matplotlib.patches as patches\n",
    "import glob\n",
    "\n",
    "import matplotlib.colors as mcolors\n",
    "\n",
    "from netCDF4 import Dataset\n",
    "from scipy import stats\n",
    "\n",
    "from wrf import getvar,vinterp\n",
    "\n",
    "from matplotlib.animation import FuncAnimation\n",
    "\n",
    "\n",
    "## estimate of pressure levels from the hybrid coordinate:\n",
    "## lev0=975, 5=925, 8=850, 12=700, 17=500,  19=400, 21=300, 24=200, 29=100"
   ]
  },
  {
   "cell_type": "markdown",
   "metadata": {},
   "source": [
    "### Check whether LUindex is changed correctly"
   ]
  },
  {
   "cell_type": "code",
   "execution_count": 2,
   "metadata": {},
   "outputs": [],
   "source": [
    "path = '/ocean/projects/ees210014p/xjliu/Amazon_exp/'\n",
    "\n",
    "file0 = path+'Amazon_NoahMP/energyflux_d01_2015-11-01_00:00:00'\n",
    "with xarray.open_dataset(file0,decode_times=False,\n",
    "                         mask_and_scale='True') as ds0:\n",
    "    lu0=ds0['LU_INDEX'][0,:,:]\n",
    "\n",
    "file1 = path+'Amazon_NoahMP_ILdeforested/energyflux_d01_2015-11-01_00:00:00'\n",
    "with xarray.open_dataset(file1,decode_times=False,\n",
    "                         mask_and_scale='True') as ds1:\n",
    "    lu1=ds1['LU_INDEX'][0,:,:]\n"
   ]
  },
  {
   "cell_type": "markdown",
   "metadata": {},
   "source": [
    "### Get Theta at pressure levels. "
   ]
  },
  {
   "cell_type": "code",
   "execution_count": 3,
   "metadata": {},
   "outputs": [],
   "source": [
    "files0 = glob.glob(path+'Amazon_NoahMP/3Dfields_d01_2015-11-*')\n",
    "files0.sort()\n",
    "#files0\n",
    "\n",
    "files1 = glob.glob(path+'Amazon_NoahMP_ILdeforested/3Dfields_d01_2015-11-*')\n",
    "files1.sort()\n",
    "#files1"
   ]
  },
  {
   "cell_type": "code",
   "execution_count": 5,
   "metadata": {},
   "outputs": [],
   "source": [
    "int_levels=[1000,975,925,850,750,700,600,500,400,300,200,100]\n",
    "vert_coord=\"pressure\"\n",
    "files0 = glob.glob(path+'Amazon_NoahMP/3Dfields_d01_2015-11-*')\n",
    "files0.sort()\n",
    "files0\n",
    "\n",
    "files1 = glob.glob(path+'Amazon_NoahMP_ILdeforested/3Dfields_d01_2015-11-*')\n",
    "files1.sort()\n",
    "files1\n",
    "\n",
    "for ii in range(1):\n",
    "    \n",
    "    ncfile0 = Dataset(files0[ii])\n",
    "    # Get the Sea Level Pressure\n",
    "    C0 = getvar(ncfile0, \"cloudfrac\")\n",
    "\n",
    "    ncfile1 = Dataset(files1[ii])\n",
    "    C1 = getvar(ncfile1, \"cloudfrac\")\n",
    "    \n",
    "    \n",
    "for ii in range(1,24*29):\n",
    "    \n",
    "    ncfile0 = Dataset(files0[ii])\n",
    "    # Get the Sea Level Pressure\n",
    "    tmp0 = getvar(ncfile0, \"cloudfrac\")\n",
    "\n",
    "    ncfile1 = Dataset(files1[ii])\n",
    "    tmp1 = getvar(ncfile1, \"cloudfrac\")\n",
    "    \n",
    "    C0=xarray.concat((C0,tmp0),dim='TIME')\n",
    "    C1=xarray.concat((C1,tmp1),dim='TIME')\n",
    "\n",
    "del C0.attrs['projection']\n",
    "del C1.attrs['projection']\n",
    "\n",
    "C0.to_dataset().to_netcdf(path+'post_processing/Amazon561x721/Cloudfrac.obs.Noah.day1_29.nc')\n",
    "C1.to_dataset().to_netcdf(path+'post_processing/Amazon561x721/Cloudfrac.ILgrassland.Noah.day1_29.nc')"
   ]
  }
 ],
 "metadata": {
  "kernelspec": {
   "display_name": "Python_Xiaojuan",
   "language": "python",
   "name": "xiaojuan_python"
  },
  "language_info": {
   "codemirror_mode": {
    "name": "ipython",
    "version": 3
   },
   "file_extension": ".py",
   "mimetype": "text/x-python",
   "name": "python",
   "nbconvert_exporter": "python",
   "pygments_lexer": "ipython3",
   "version": "3.9.5"
  }
 },
 "nbformat": 4,
 "nbformat_minor": 4
}
