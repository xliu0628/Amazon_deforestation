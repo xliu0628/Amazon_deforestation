{
 "cells": [
  {
   "cell_type": "code",
   "execution_count": 1,
   "metadata": {},
   "outputs": [],
   "source": [
    "%matplotlib inline\n",
    "import numpy as np\n",
    "import pandas as pd\n",
    "import matplotlib.pyplot as plt\n",
    "import xarray\n",
    "import time\n",
    "import matplotlib.patches as patches\n",
    "import glob\n",
    "\n",
    "import matplotlib.colors as mcolors\n",
    "\n",
    "from netCDF4 import Dataset\n",
    "from scipy import stats\n",
    "\n",
    "from wrf import getvar,vinterp\n",
    "\n",
    "from matplotlib.animation import FuncAnimation\n",
    "\n",
    "\n",
    "## estimate of pressure levels from the hybrid coordinate:\n",
    "## lev0=975, 5=925, 8=850, 12=700, 17=500,  19=400, 21=300, 24=200, 29=100"
   ]
  },
  {
   "cell_type": "markdown",
   "metadata": {},
   "source": [
    "### Check whether LUindex is changed correctly"
   ]
  },
  {
   "cell_type": "code",
   "execution_count": 2,
   "metadata": {},
   "outputs": [],
   "source": [
    "path = '/ocean/projects/ees210014p/xjliu/Amazon_exp/'\n",
    "\n",
    "file0 = path+'Amazon_NoahMP/energyflux_d01_2015-11-01_00:00:00'\n",
    "with xarray.open_dataset(file0,decode_times=False,\n",
    "                         mask_and_scale='True') as ds0:\n",
    "    lu0=ds0['LU_INDEX'][0,:,:]\n",
    "\n",
    "file1 = path+'Amazon_NoahMP_ILdeforested/energyflux_d01_2015-11-01_00:00:00'\n",
    "with xarray.open_dataset(file1,decode_times=False,\n",
    "                         mask_and_scale='True') as ds1:\n",
    "    lu1=ds1['LU_INDEX'][0,:,:]\n"
   ]
  },
  {
   "cell_type": "code",
   "execution_count": 5,
   "metadata": {},
   "outputs": [
    {
     "data": {
      "text/plain": [
       "'/ocean/projects/ees210014p/xjliu/Amazon_exp/Amazon_NoahMP_ILdeforested/3Dfields_d01_2015-11-16_00:00:00'"
      ]
     },
     "execution_count": 5,
     "metadata": {},
     "output_type": "execute_result"
    }
   ],
   "source": [
    "files1[24*15]"
   ]
  },
  {
   "cell_type": "markdown",
   "metadata": {},
   "source": [
    "### Get Theta at pressure levels. "
   ]
  },
  {
   "cell_type": "code",
   "execution_count": 3,
   "metadata": {},
   "outputs": [],
   "source": [
    "int_levels=[1000,975,925,850,750,700,600,500,400,300,200,100]\n",
    "vert_coord=\"pressure\"\n",
    "files0 = glob.glob(path+'Amazon_NoahMP/3Dfields_d01_2015-11-*')\n",
    "files0.sort()\n",
    "files0\n",
    "\n",
    "files1 = glob.glob(path+'Amazon_NoahMP_ILdeforested/3Dfields_d01_2015-11-*')\n",
    "files1.sort()\n",
    "files1\n",
    "\n",
    "ii=24*15:\n",
    "ncfile0 = Dataset(files0[ii])\n",
    "# Get the Sea Level Pressure\n",
    "T0 = getvar(ncfile0, \"theta\")\n",
    "\n",
    "ncfile1 = Dataset(files1[ii])\n",
    "T1 = getvar(ncfile1, \"theta\")\n",
    "\n",
    "Theta0 = vinterp(ncfile0,T0,\"pressure\",int_levels)\n",
    "Theta1 = vinterp(ncfile1,T1,\"pressure\",int_levels)\n",
    "    \n",
    "for ii in range(24*15+1,24*29):\n",
    "    \n",
    "    ncfile0 = Dataset(files0[ii])\n",
    "    # Get the Sea Level Pressure\n",
    "    T0 = getvar(ncfile0, \"theta\")\n",
    "\n",
    "    ncfile1 = Dataset(files1[ii])\n",
    "    T1 = getvar(ncfile1, \"theta\")\n",
    "    \n",
    "    tmp0 = vinterp(ncfile0,T0,\"pressure\",int_levels)\n",
    "    tmp1 = vinterp(ncfile1,T1,\"pressure\",int_levels)\n",
    "    \n",
    "    Theta0=xarray.concat((Theta0,tmp0),dim='TIME')\n",
    "    Theta1=xarray.concat((Theta1,tmp1),dim='TIME')\n",
    "\n",
    "del Theta0.attrs['projection']\n",
    "del Theta1.attrs['projection']\n",
    "\n",
    "Theta0.to_dataset().to_netcdf(path+'post_processing/Amazon561x721/Theta.obs.Noah.day16_30.nc')\n",
    "Theta1.to_dataset().to_netcdf(path+'post_processing/Amazon561x721/Theta.ILgrassland.Noah.day16_30.nc')"
   ]
  },
  {
   "cell_type": "markdown",
   "metadata": {},
   "source": [
    "# Vertical profile of inside the ILs"
   ]
  },
  {
   "cell_type": "code",
   "execution_count": 4,
   "metadata": {},
   "outputs": [
    {
     "ename": "IndexError",
     "evalue": "list index out of range",
     "output_type": "error",
     "traceback": [
      "\u001b[0;31m---------------------------------------------------------------------------\u001b[0m",
      "\u001b[0;31mIndexError\u001b[0m                                Traceback (most recent call last)",
      "\u001b[0;32m<ipython-input-4-f08278cccd15>\u001b[0m in \u001b[0;36m<module>\u001b[0;34m\u001b[0m\n\u001b[1;32m     20\u001b[0m \u001b[0;32mfor\u001b[0m \u001b[0mii\u001b[0m \u001b[0;32min\u001b[0m \u001b[0mrange\u001b[0m\u001b[0;34m(\u001b[0m\u001b[0;36m24\u001b[0m\u001b[0;34m*\u001b[0m\u001b[0;36m20\u001b[0m\u001b[0;34m)\u001b[0m\u001b[0;34m:\u001b[0m\u001b[0;34m\u001b[0m\u001b[0;34m\u001b[0m\u001b[0m\n\u001b[1;32m     21\u001b[0m \u001b[0;34m\u001b[0m\u001b[0m\n\u001b[0;32m---> 22\u001b[0;31m     \u001b[0mncfile0\u001b[0m \u001b[0;34m=\u001b[0m \u001b[0mDataset\u001b[0m\u001b[0;34m(\u001b[0m\u001b[0mfiles0\u001b[0m\u001b[0;34m[\u001b[0m\u001b[0;36m24\u001b[0m\u001b[0;34m*\u001b[0m\u001b[0;36m10\u001b[0m\u001b[0;34m+\u001b[0m\u001b[0mii\u001b[0m\u001b[0;34m]\u001b[0m\u001b[0;34m)\u001b[0m\u001b[0;34m\u001b[0m\u001b[0;34m\u001b[0m\u001b[0m\n\u001b[0m\u001b[1;32m     23\u001b[0m     \u001b[0;31m# Get the Sea Level Pressure\u001b[0m\u001b[0;34m\u001b[0m\u001b[0;34m\u001b[0m\u001b[0;34m\u001b[0m\u001b[0m\n\u001b[1;32m     24\u001b[0m     \u001b[0mtheta0\u001b[0m \u001b[0;34m=\u001b[0m \u001b[0mgetvar\u001b[0m\u001b[0;34m(\u001b[0m\u001b[0mncfile0\u001b[0m\u001b[0;34m,\u001b[0m \u001b[0;34m\"theta\"\u001b[0m\u001b[0;34m)\u001b[0m\u001b[0;34m\u001b[0m\u001b[0;34m\u001b[0m\u001b[0m\n",
      "\u001b[0;31mIndexError\u001b[0m: list index out of range"
     ]
    }
   ],
   "source": [
    "T0_areaave = np.zeros((24*20,12))\n",
    "T0_IL_areaave = np.zeros((24*20,12))\n",
    "T0_out_areaave = np.zeros((24*20,12))\n",
    "T1_areaave = np.zeros((24*20,12))\n",
    "T1_IL_areaave = np.zeros((24*20,12))\n",
    "T1_out_areaave = np.zeros((24*20,12))\n",
    "\n",
    "int_levels=[1000,975,925,850,750,700,600,500,400,300,200,100]\n",
    "vert_coord=\"pressure\"\n",
    "files0 = glob.glob(path+'Amazon_NoahMP/3Dfields_d01_2015-11-*')\n",
    "files0.sort()\n",
    "files0\n",
    "\n",
    "files1 = glob.glob(path+'Amazon_NoahMP_ILdeforested/3Dfields_d01_2015-11-*')\n",
    "files1.sort()\n",
    "files1\n",
    "\n",
    "dif_lu = lu1-lu0\n",
    "\n",
    "for ii in range(24*20):\n",
    "    \n",
    "    ncfile0 = Dataset(files0[24*10+ii])\n",
    "    # Get the Sea Level Pressure\n",
    "    theta0 = getvar(ncfile0, \"theta\")\n",
    "\n",
    "    ncfile1 = Dataset(files1[24*10+ii])\n",
    "    theta1 = getvar(ncfile1, \"theta\")\n",
    "    \n",
    "    # vertical interpolation\n",
    "    T_vint0 = vinterp(ncfile0,theta0,\"pressure\",int_levels)\n",
    "    T_vint1 = vinterp(ncfile1,theta1,\"pressure\",int_levels)\n",
    "    T0_IL = T_vint0.where(dif_lu>0,np.nan) # Inside IL\n",
    "    T0_out= T_vint0.where(dif_lu==0,np.nan) # outside IL\n",
    "    T1_IL = T_vint1.where(dif_lu>0,np.nan) # Inside IL\n",
    "    T1_out= T_vint1.where(dif_lu==0,np.nan) # outside IL\n",
    "    \n",
    "    T0_areaave[ii,:] = T_vint0.mean(('south_north','west_east'))\n",
    "    T0_IL_areaave[ii,:] = T0_IL.mean(('south_north','west_east'))\n",
    "    T0_out_areaave[ii,:] = T0_out.mean(('south_north','west_east'))\n",
    "\n",
    "    T1_areaave[ii,:] = T_vint1.mean(('south_north','west_east'))\n",
    "    T1_IL_areaave[ii,:] = T1_IL.mean(('south_north','west_east'))\n",
    "    T1_out_areaave[ii,:] = T1_out.mean(('south_north','west_east'))\n",
    "\n",
    "np.save(path+'post_processing/Amazon561x721/Theta_areaave.obs.Noah.day11_20.npy',T0_areaave)\n",
    "np.save(path+'post_processing/Amazon561x721/Theta_IL_areaave.obs.Noah.day11_20.npy',T0_IL_areaave)\n",
    "np.save(path+'post_processing/Amazon561x721/Theta_out_areaave.obs.Noah.day11_20.day11_20.npy',T0_out_areaave)\n",
    "\n",
    "np.save(path+'post_processing/Amazon561x721/Theta_areaave.ILgrassland.Noah.day11_20.npy',T1_areaave)\n",
    "np.save(path+'post_processing/Amazon561x721/Theta_IL_areaave.ILgrassland.Noah.day11_20.npy',T1_IL_areaave)\n",
    "np.save(path+'post_processing/Amazon561x721/Theta_out_areaave.ILgrassland.Noah.day11_20.npy',T1_out_areaave)"
   ]
  },
  {
   "cell_type": "code",
   "execution_count": 19,
   "metadata": {},
   "outputs": [],
   "source": [
    "np.save(path+'post_processing/Amazon561x721/Theta_areaave.obs.Noah.day11_20.npy',T0_areaave)\n",
    "np.save(path+'post_processing/Amazon561x721/Theta_IL_areaave.obs.Noah.day11_20.npy',T0_IL_areaave)\n",
    "np.save(path+'post_processing/Amazon561x721/Theta_out_areaave.obs.Noah.day11_20.day11_20.npy',T0_out_areaave)\n",
    "\n",
    "np.save(path+'post_processing/Amazon561x721/Theta_areaave.ILgrassland.Noah.day11_20.npy',T1_areaave)\n",
    "np.save(path+'post_processing/Amazon561x721/Theta_IL_areaave.ILgrassland.Noah.day11_20.npy',T1_IL_areaave)\n",
    "np.save(path+'post_processing/Amazon561x721/Theta_out_areaave.ILgrassland.Noah.day11_20.npy',T1_out_areaave)"
   ]
  },
  {
   "cell_type": "code",
   "execution_count": 17,
   "metadata": {},
   "outputs": [
    {
     "data": {
      "text/plain": [
       "(360.0, 456.0)"
      ]
     },
     "execution_count": 17,
     "metadata": {},
     "output_type": "execute_result"
    },
    {
     "data": {
      "image/png": "[encoded data removed]",
      "text/plain": [
       "<Figure size 432x288 with 2 Axes>"
      ]
     },
     "metadata": {
      "needs_background": "light"
     },
     "output_type": "display_data"
    }
   ],
   "source": [
    "plt.contourf(np.arange(24*20-23),int_levels[:],T1_IL_areaave[:24*20-23,:].transpose()-T0_IL_areaave[:24*20-23,:].transpose(),\n",
    "            cmap='bwr',extend='both',\n",
    "             levels=np.arange(-1.0,1.001,0.1))\n",
    "plt.colorbar()\n",
    "plt.gca().invert_yaxis()\n",
    "plt.ylim([925, 700])\n",
    "plt.xlim([24*15,24*19])"
   ]
  },
  {
   "cell_type": "code",
   "execution_count": 28,
   "metadata": {},
   "outputs": [],
   "source": [
    "aa0 = np.load(path+'post_processing/Amazon561x721/Theta_areaave.obs.Noah.npy')\n",
    "aa1 = np.load(path+'post_processing/Amazon561x721/Theta_IL_areaave.obs.Noah.day11_20.npy')\n",
    "\n",
    "bb0 = np.load(path+'post_processing/Amazon561x721/Theta_areaave.ILgrassland.Noah.npy')\n",
    "bb1 = np.load(path+'post_processing/Amazon561x721/Theta_IL_areaave.ILgrassland.Noah.day11_20.npy')"
   ]
  },
  {
   "cell_type": "code",
   "execution_count": 30,
   "metadata": {},
   "outputs": [],
   "source": [
    "aa=np.vstack((aa0,aa1))\n",
    "bb=np.vstack((bb0,bb1))\n",
    "\n",
    "cc0 = np.reshape(aa,(30,24,12))\n",
    "cc1 = np.reshape(bb,(30,24,12))"
   ]
  },
  {
   "cell_type": "code",
   "execution_count": null,
   "metadata": {},
   "outputs": [],
   "source": [
    "plt.contourf(np.arange(24),int_levels,cc1.mean(0).transpose()-cc0.mean(0).transpose(),cmap='bwr')\n",
    "plt.colorbar()\n",
    "plt.gca().invert_yaxis()\n",
    "plt.ylim([925,500])"
   ]
  },
  {
   "cell_type": "markdown",
   "metadata": {},
   "source": [
    "## Plot the time series of all 30 days."
   ]
  },
  {
   "cell_type": "code",
   "execution_count": 49,
   "metadata": {},
   "outputs": [
    {
     "data": {
      "image/png": "[encoded data removed]",
      "text/plain": [
       "<Figure size 864x432 with 2 Axes>"
      ]
     },
     "metadata": {
      "needs_background": "light"
     },
     "output_type": "display_data"
    }
   ],
   "source": [
    "plt.rcParams[\"figure.figsize\"] = (12,6)\n",
    "plt.contourf(np.arange(720),int_levels,bb.transpose()-aa.transpose(),\n",
    "            cmap='bwr',levels=np.arange(-1.0,1.01,0.1))\n",
    "plt.colorbar()\n",
    "plt.gca().invert_yaxis()\n",
    "plt.ylim([925,500])\n",
    "plt.xticks(np.arange(0+15,720,24),np.arange(1,31))\n",
    "plt.xlabel('Day [tickmarks are labled at local noon]')\n",
    "plt.ylabel('Pressure [hPa]')\n",
    "plt.title('Time evolution of IL domain-averaged difference (ILgrassland - Control) ')\n",
    "plt.grid()"
   ]
  },
  {
   "cell_type": "markdown",
   "metadata": {},
   "source": [
    "# Can interpolate of spy speed up the vertical interpolation of wrf-python"
   ]
  },
  {
   "cell_type": "code",
   "execution_count": null,
   "metadata": {},
   "outputs": [],
   "source": []
  }
 ],
 "metadata": {
  "kernelspec": {
   "display_name": "Python_Xiaojuan",
   "language": "python",
   "name": "xiaojuan_python"
  },
  "language_info": {
   "codemirror_mode": {
    "name": "ipython",
    "version": 3
   },
   "file_extension": ".py",
   "mimetype": "text/x-python",
   "name": "python",
   "nbconvert_exporter": "python",
   "pygments_lexer": "ipython3",
   "version": "3.9.5"
  }
 },
 "nbformat": 4,
 "nbformat_minor": 4
}
