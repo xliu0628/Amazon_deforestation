{
 "cells": [
  {
   "cell_type": "code",
   "execution_count": 1,
   "metadata": {},
   "outputs": [],
   "source": [
    "%matplotlib inline\n",
    "import numpy as np\n",
    "import pandas as pd\n",
    "import matplotlib.pyplot as plt\n",
    "import xarray\n",
    "import time\n",
    "import matplotlib.patches as patches\n",
    "import glob\n",
    "\n",
    "import matplotlib.colors as mcolors\n",
    "\n",
    "from netCDF4 import Dataset\n",
    "from scipy import stats\n",
    "\n",
    "from wrf import getvar,vinterp\n",
    "\n",
    "from matplotlib.animation import FuncAnimation\n",
    "\n",
    "\n",
    "## estimate of pressure levels from the hybrid coordinate:\n",
    "## lev0=975, 5=925, 8=850, 12=700, 17=500,  19=400, 21=300, 24=200, 29=100"
   ]
  },
  {
   "cell_type": "markdown",
   "metadata": {},
   "source": [
    "### Check whether LUindex is changed correctly"
   ]
  },
  {
   "cell_type": "code",
   "execution_count": 2,
   "metadata": {},
   "outputs": [],
   "source": [
    "path = '/ocean/projects/ees210014p/xjliu/Amazon_exp/'\n",
    "\n",
    "file0 = path+'Amazon6mon/energyflux_d01_2015-01-01_00:00:00'\n",
    "with xarray.open_dataset(file0,decode_times=False,\n",
    "                         mask_and_scale='True') as ds0:\n",
    "    lu0=ds0['LU_INDEX'][0,:,:]\n",
    "\n",
    "file1 = path+'Amazon6mon_ILgrassland/energyflux_d01_2015-01-01_00:00:00'\n",
    "with xarray.open_dataset(file1,decode_times=False,\n",
    "                         mask_and_scale='True') as ds1:\n",
    "    lu1=ds1['LU_INDEX'][0,:,:]\n"
   ]
  },
  {
   "cell_type": "markdown",
   "metadata": {},
   "source": [
    "### Get Theta at pressure levels. "
   ]
  },
  {
   "cell_type": "code",
   "execution_count": 3,
   "metadata": {},
   "outputs": [],
   "source": [
    "files0 = glob.glob(path+'Amazon6mon/3Dfields_d01_2014-09-*')\n",
    "files0.sort()\n",
    "#files0\n",
    "\n",
    "files1 = glob.glob(path+'Amazon6mon_ILgrassland/3Dfields_d01_2014-09-*')\n",
    "files1.sort()\n",
    "#files1"
   ]
  },
  {
   "cell_type": "code",
   "execution_count": 4,
   "metadata": {},
   "outputs": [
    {
     "ename": "KeyError",
     "evalue": "'PSFC'",
     "output_type": "error",
     "traceback": [
      "\u001b[0;31m---------------------------------------------------------------------------\u001b[0m",
      "\u001b[0;31mKeyError\u001b[0m                                  Traceback (most recent call last)",
      "\u001b[0;32m<ipython-input-4-d5aebde12a9a>\u001b[0m in \u001b[0;36m<module>\u001b[0;34m\u001b[0m\n\u001b[1;32m     18\u001b[0m     \u001b[0mT1\u001b[0m \u001b[0;34m=\u001b[0m \u001b[0mgetvar\u001b[0m\u001b[0;34m(\u001b[0m\u001b[0mncfile1\u001b[0m\u001b[0;34m,\u001b[0m \u001b[0;34m\"theta\"\u001b[0m\u001b[0;34m)\u001b[0m\u001b[0;34m\u001b[0m\u001b[0;34m\u001b[0m\u001b[0m\n\u001b[1;32m     19\u001b[0m \u001b[0;34m\u001b[0m\u001b[0m\n\u001b[0;32m---> 20\u001b[0;31m     \u001b[0mTheta0\u001b[0m \u001b[0;34m=\u001b[0m \u001b[0mvinterp\u001b[0m\u001b[0;34m(\u001b[0m\u001b[0mncfile0\u001b[0m\u001b[0;34m,\u001b[0m\u001b[0mT0\u001b[0m\u001b[0;34m,\u001b[0m\u001b[0;34m\"pressure\"\u001b[0m\u001b[0;34m,\u001b[0m\u001b[0mint_levels\u001b[0m\u001b[0;34m)\u001b[0m\u001b[0;34m\u001b[0m\u001b[0;34m\u001b[0m\u001b[0m\n\u001b[0m\u001b[1;32m     21\u001b[0m     \u001b[0mTheta1\u001b[0m \u001b[0;34m=\u001b[0m \u001b[0mvinterp\u001b[0m\u001b[0;34m(\u001b[0m\u001b[0mncfile1\u001b[0m\u001b[0;34m,\u001b[0m\u001b[0mT1\u001b[0m\u001b[0;34m,\u001b[0m\u001b[0;34m\"pressure\"\u001b[0m\u001b[0;34m,\u001b[0m\u001b[0mint_levels\u001b[0m\u001b[0;34m)\u001b[0m\u001b[0;34m\u001b[0m\u001b[0;34m\u001b[0m\u001b[0m\n\u001b[1;32m     22\u001b[0m \u001b[0;34m\u001b[0m\u001b[0m\n",
      "\u001b[0;32m/ocean/projects/atm200007p/xjliu/miniconda3/lib/python3.9/site-packages/wrf/metadecorators.py\u001b[0m in \u001b[0;36mfunc_wrapper\u001b[0;34m(wrapped, instance, args, kwargs)\u001b[0m\n\u001b[1;32m   1734\u001b[0m             \u001b[0;32mreturn\u001b[0m \u001b[0m_set_line_meta\u001b[0m\u001b[0;34m(\u001b[0m\u001b[0mwrapped\u001b[0m\u001b[0;34m,\u001b[0m \u001b[0minstance\u001b[0m\u001b[0;34m,\u001b[0m \u001b[0margs\u001b[0m\u001b[0;34m,\u001b[0m \u001b[0mkwargs\u001b[0m\u001b[0;34m)\u001b[0m\u001b[0;34m\u001b[0m\u001b[0;34m\u001b[0m\u001b[0m\n\u001b[1;32m   1735\u001b[0m         \u001b[0;32melif\u001b[0m \u001b[0minterp_type\u001b[0m \u001b[0;34m==\u001b[0m \u001b[0;34m\"vinterp\"\u001b[0m\u001b[0;34m:\u001b[0m\u001b[0;34m\u001b[0m\u001b[0;34m\u001b[0m\u001b[0m\n\u001b[0;32m-> 1736\u001b[0;31m             \u001b[0;32mreturn\u001b[0m \u001b[0m_set_vinterp_meta\u001b[0m\u001b[0;34m(\u001b[0m\u001b[0mwrapped\u001b[0m\u001b[0;34m,\u001b[0m \u001b[0minstance\u001b[0m\u001b[0;34m,\u001b[0m \u001b[0margs\u001b[0m\u001b[0;34m,\u001b[0m \u001b[0mkwargs\u001b[0m\u001b[0;34m)\u001b[0m\u001b[0;34m\u001b[0m\u001b[0;34m\u001b[0m\u001b[0m\n\u001b[0m\u001b[1;32m   1737\u001b[0m         \u001b[0;32melif\u001b[0m \u001b[0minterp_type\u001b[0m \u001b[0;34m==\u001b[0m \u001b[0;34m\"2dxy\"\u001b[0m\u001b[0;34m:\u001b[0m\u001b[0;34m\u001b[0m\u001b[0;34m\u001b[0m\u001b[0m\n\u001b[1;32m   1738\u001b[0m             \u001b[0;32mreturn\u001b[0m \u001b[0m_set_2dxy_meta\u001b[0m\u001b[0;34m(\u001b[0m\u001b[0mwrapped\u001b[0m\u001b[0;34m,\u001b[0m \u001b[0minstance\u001b[0m\u001b[0;34m,\u001b[0m \u001b[0margs\u001b[0m\u001b[0;34m,\u001b[0m \u001b[0mkwargs\u001b[0m\u001b[0;34m)\u001b[0m\u001b[0;34m\u001b[0m\u001b[0;34m\u001b[0m\u001b[0m\n",
      "\u001b[0;32m/ocean/projects/atm200007p/xjliu/miniconda3/lib/python3.9/site-packages/wrf/metadecorators.py\u001b[0m in \u001b[0;36m_set_vinterp_meta\u001b[0;34m(wrapped, instance, args, kwargs)\u001b[0m\n\u001b[1;32m   1402\u001b[0m     \u001b[0mfield_type\u001b[0m \u001b[0;34m=\u001b[0m \u001b[0margvars\u001b[0m\u001b[0;34m[\u001b[0m\u001b[0;34m\"field_type\"\u001b[0m\u001b[0;34m]\u001b[0m\u001b[0;34m\u001b[0m\u001b[0;34m\u001b[0m\u001b[0m\n\u001b[1;32m   1403\u001b[0m \u001b[0;34m\u001b[0m\u001b[0m\n\u001b[0;32m-> 1404\u001b[0;31m     \u001b[0mresult\u001b[0m \u001b[0;34m=\u001b[0m \u001b[0mwrapped\u001b[0m\u001b[0;34m(\u001b[0m\u001b[0;34m*\u001b[0m\u001b[0margs\u001b[0m\u001b[0;34m,\u001b[0m \u001b[0;34m**\u001b[0m\u001b[0mkwargs\u001b[0m\u001b[0;34m)\u001b[0m\u001b[0;34m\u001b[0m\u001b[0;34m\u001b[0m\u001b[0m\n\u001b[0m\u001b[1;32m   1405\u001b[0m \u001b[0;34m\u001b[0m\u001b[0m\n\u001b[1;32m   1406\u001b[0m     \u001b[0;31m# Defaults, in case the data isn't a DataArray\u001b[0m\u001b[0;34m\u001b[0m\u001b[0;34m\u001b[0m\u001b[0;34m\u001b[0m\u001b[0m\n",
      "\u001b[0;32m/ocean/projects/atm200007p/xjliu/miniconda3/lib/python3.9/site-packages/wrf/interp.py\u001b[0m in \u001b[0;36mvinterp\u001b[0;34m(wrfin, field, vert_coord, interp_levels, extrapolate, field_type, log_p, timeidx, method, squeeze, cache, meta)\u001b[0m\n\u001b[1;32m    744\u001b[0m \u001b[0;34m\u001b[0m\u001b[0m\n\u001b[1;32m    745\u001b[0m     \u001b[0;31m# Extract variables\u001b[0m\u001b[0;34m\u001b[0m\u001b[0;34m\u001b[0m\u001b[0;34m\u001b[0m\u001b[0m\n\u001b[0;32m--> 746\u001b[0;31m     ncvars = extract_vars(_wrfin, timeidx, (\"PSFC\", \"QVAPOR\"),\n\u001b[0m\u001b[1;32m    747\u001b[0m                           method, squeeze, cache, meta=False, _key=_key)\n\u001b[1;32m    748\u001b[0m \u001b[0;34m\u001b[0m\u001b[0m\n",
      "\u001b[0;32m/ocean/projects/atm200007p/xjliu/miniconda3/lib/python3.9/site-packages/wrf/util.py\u001b[0m in \u001b[0;36mextract_vars\u001b[0;34m(wrfin, timeidx, varnames, method, squeeze, cache, meta, _key)\u001b[0m\n\u001b[1;32m   2288\u001b[0m         \u001b[0mvarlist\u001b[0m \u001b[0;34m=\u001b[0m \u001b[0mvarnames\u001b[0m\u001b[0;34m\u001b[0m\u001b[0;34m\u001b[0m\u001b[0m\n\u001b[1;32m   2289\u001b[0m \u001b[0;34m\u001b[0m\u001b[0m\n\u001b[0;32m-> 2290\u001b[0;31m     return {var: _extract_var(wrfin, var, timeidx, None,\n\u001b[0m\u001b[1;32m   2291\u001b[0m                               method, squeeze, cache, meta, _key)\n\u001b[1;32m   2292\u001b[0m             for var in varlist}\n",
      "\u001b[0;32m/ocean/projects/atm200007p/xjliu/miniconda3/lib/python3.9/site-packages/wrf/util.py\u001b[0m in \u001b[0;36m<dictcomp>\u001b[0;34m(.0)\u001b[0m\n\u001b[1;32m   2288\u001b[0m         \u001b[0mvarlist\u001b[0m \u001b[0;34m=\u001b[0m \u001b[0mvarnames\u001b[0m\u001b[0;34m\u001b[0m\u001b[0;34m\u001b[0m\u001b[0m\n\u001b[1;32m   2289\u001b[0m \u001b[0;34m\u001b[0m\u001b[0m\n\u001b[0;32m-> 2290\u001b[0;31m     return {var: _extract_var(wrfin, var, timeidx, None,\n\u001b[0m\u001b[1;32m   2291\u001b[0m                               method, squeeze, cache, meta, _key)\n\u001b[1;32m   2292\u001b[0m             for var in varlist}\n",
      "\u001b[0;32m/ocean/projects/atm200007p/xjliu/miniconda3/lib/python3.9/site-packages/wrf/util.py\u001b[0m in \u001b[0;36m_extract_var\u001b[0;34m(wrfin, varname, timeidx, is_moving, method, squeeze, cache, meta, _key)\u001b[0m\n\u001b[1;32m   2219\u001b[0m         \u001b[0;32melse\u001b[0m\u001b[0;34m:\u001b[0m\u001b[0;34m\u001b[0m\u001b[0;34m\u001b[0m\u001b[0m\n\u001b[1;32m   2220\u001b[0m             \u001b[0;32mif\u001b[0m \u001b[0;32mnot\u001b[0m \u001b[0mmultitime\u001b[0m\u001b[0;34m:\u001b[0m\u001b[0;34m\u001b[0m\u001b[0;34m\u001b[0m\u001b[0m\n\u001b[0;32m-> 2221\u001b[0;31m                 \u001b[0mresult\u001b[0m \u001b[0;34m=\u001b[0m \u001b[0mwrfin\u001b[0m\u001b[0;34m.\u001b[0m\u001b[0mvariables\u001b[0m\u001b[0;34m[\u001b[0m\u001b[0mvarname\u001b[0m\u001b[0;34m]\u001b[0m\u001b[0;34m[\u001b[0m\u001b[0mtimeidx\u001b[0m\u001b[0;34m,\u001b[0m \u001b[0;34m:\u001b[0m\u001b[0;34m]\u001b[0m\u001b[0;34m\u001b[0m\u001b[0;34m\u001b[0m\u001b[0m\n\u001b[0m\u001b[1;32m   2222\u001b[0m                 \u001b[0mresult\u001b[0m \u001b[0;34m=\u001b[0m \u001b[0mresult\u001b[0m\u001b[0;34m[\u001b[0m\u001b[0mnp\u001b[0m\u001b[0;34m.\u001b[0m\u001b[0mnewaxis\u001b[0m\u001b[0;34m,\u001b[0m \u001b[0;34m:\u001b[0m\u001b[0;34m]\u001b[0m  \u001b[0;31m# So that no squeeze works\u001b[0m\u001b[0;34m\u001b[0m\u001b[0;34m\u001b[0m\u001b[0m\n\u001b[1;32m   2223\u001b[0m             \u001b[0;32melse\u001b[0m\u001b[0;34m:\u001b[0m\u001b[0;34m\u001b[0m\u001b[0;34m\u001b[0m\u001b[0m\n",
      "\u001b[0;31mKeyError\u001b[0m: 'PSFC'"
     ]
    }
   ],
   "source": [
    "int_levels=[1000,975,925,850,750,700,600,500,400,300,200,100]\n",
    "vert_coord=\"pressure\"\n",
    "files0 = glob.glob(path+'Amazon6mon/3Dfields_d01_2014-09-*')\n",
    "files0.sort()\n",
    "files0\n",
    "\n",
    "files1 = glob.glob(path+'Amazon6mon_ILgrassland/3Dfields_d01_2014-09-*')\n",
    "files1.sort()\n",
    "files1\n",
    "\n",
    "for ii in range(1):\n",
    "    \n",
    "    ncfile0 = Dataset(files0[ii])\n",
    "    # Get the Sea Level Pressure\n",
    "    T0 = getvar(ncfile0, \"theta\")\n",
    "\n",
    "    ncfile1 = Dataset(files1[ii])\n",
    "    T1 = getvar(ncfile1, \"theta\")\n",
    "    \n",
    "    Theta0 = vinterp(ncfile0,T0,\"pressure\",int_levels)\n",
    "    Theta1 = vinterp(ncfile1,T1,\"pressure\",int_levels)\n",
    "    \n",
    "for ii in range(1,24*15):\n",
    "    \n",
    "    ncfile0 = Dataset(files0[ii])\n",
    "    # Get the Sea Level Pressure\n",
    "    T0 = getvar(ncfile0, \"theta\")\n",
    "\n",
    "    ncfile1 = Dataset(files1[ii])\n",
    "    T1 = getvar(ncfile1, \"theta\")\n",
    "    \n",
    "    tmp0 = vinterp(ncfile0,T0,\"pressure\",int_levels)\n",
    "    tmp1 = vinterp(ncfile1,T1,\"pressure\",int_levels)\n",
    "    \n",
    "    Theta0=xarray.concat((Theta0,tmp0),dim='TIME')\n",
    "    Theta1=xarray.concat((Theta1,tmp1),dim='TIME')\n",
    "\n",
    "del Theta0.attrs['projection']\n",
    "del Theta1.attrs['projection']\n",
    "\n",
    "Theta0.to_dataset().to_netcdf(path+'post_processing/Amazon561x721/Theta.obs.201409.day1_15.nc')\n",
    "Theta1.to_dataset().to_netcdf(path+'post_processing/Amazon561x721/Theta.ILgrassland.201409.day1_15.nc')"
   ]
  },
  {
   "cell_type": "markdown",
   "metadata": {},
   "source": [
    "# Vertical profile of inside the ILs"
   ]
  },
  {
   "cell_type": "code",
   "execution_count": 5,
   "metadata": {},
   "outputs": [
    {
     "ename": "KeyError",
     "evalue": "'PSFC'",
     "output_type": "error",
     "traceback": [
      "\u001b[0;31m---------------------------------------------------------------------------\u001b[0m",
      "\u001b[0;31mKeyError\u001b[0m                                  Traceback (most recent call last)",
      "\u001b[0;32m<ipython-input-5-2fda6e01f515>\u001b[0m in \u001b[0;36m<module>\u001b[0;34m\u001b[0m\n\u001b[1;32m     28\u001b[0m \u001b[0;34m\u001b[0m\u001b[0m\n\u001b[1;32m     29\u001b[0m     \u001b[0;31m# vertical interpolation\u001b[0m\u001b[0;34m\u001b[0m\u001b[0;34m\u001b[0m\u001b[0;34m\u001b[0m\u001b[0m\n\u001b[0;32m---> 30\u001b[0;31m     \u001b[0mT_vint0\u001b[0m \u001b[0;34m=\u001b[0m \u001b[0mvinterp\u001b[0m\u001b[0;34m(\u001b[0m\u001b[0mncfile0\u001b[0m\u001b[0;34m,\u001b[0m\u001b[0mtheta0\u001b[0m\u001b[0;34m,\u001b[0m\u001b[0;34m\"pressure\"\u001b[0m\u001b[0;34m,\u001b[0m\u001b[0mint_levels\u001b[0m\u001b[0;34m)\u001b[0m\u001b[0;34m\u001b[0m\u001b[0;34m\u001b[0m\u001b[0m\n\u001b[0m\u001b[1;32m     31\u001b[0m     \u001b[0mT_vint1\u001b[0m \u001b[0;34m=\u001b[0m \u001b[0mvinterp\u001b[0m\u001b[0;34m(\u001b[0m\u001b[0mncfile1\u001b[0m\u001b[0;34m,\u001b[0m\u001b[0mtheta1\u001b[0m\u001b[0;34m,\u001b[0m\u001b[0;34m\"pressure\"\u001b[0m\u001b[0;34m,\u001b[0m\u001b[0mint_levels\u001b[0m\u001b[0;34m)\u001b[0m\u001b[0;34m\u001b[0m\u001b[0;34m\u001b[0m\u001b[0m\n\u001b[1;32m     32\u001b[0m     \u001b[0mT0_IL\u001b[0m \u001b[0;34m=\u001b[0m \u001b[0mT_vint0\u001b[0m\u001b[0;34m.\u001b[0m\u001b[0mwhere\u001b[0m\u001b[0;34m(\u001b[0m\u001b[0mdif_lu\u001b[0m\u001b[0;34m>\u001b[0m\u001b[0;36m0\u001b[0m\u001b[0;34m,\u001b[0m\u001b[0mnp\u001b[0m\u001b[0;34m.\u001b[0m\u001b[0mnan\u001b[0m\u001b[0;34m)\u001b[0m \u001b[0;31m# Inside IL\u001b[0m\u001b[0;34m\u001b[0m\u001b[0;34m\u001b[0m\u001b[0m\n",
      "\u001b[0;32m/ocean/projects/atm200007p/xjliu/miniconda3/lib/python3.9/site-packages/wrf/metadecorators.py\u001b[0m in \u001b[0;36mfunc_wrapper\u001b[0;34m(wrapped, instance, args, kwargs)\u001b[0m\n\u001b[1;32m   1734\u001b[0m             \u001b[0;32mreturn\u001b[0m \u001b[0m_set_line_meta\u001b[0m\u001b[0;34m(\u001b[0m\u001b[0mwrapped\u001b[0m\u001b[0;34m,\u001b[0m \u001b[0minstance\u001b[0m\u001b[0;34m,\u001b[0m \u001b[0margs\u001b[0m\u001b[0;34m,\u001b[0m \u001b[0mkwargs\u001b[0m\u001b[0;34m)\u001b[0m\u001b[0;34m\u001b[0m\u001b[0;34m\u001b[0m\u001b[0m\n\u001b[1;32m   1735\u001b[0m         \u001b[0;32melif\u001b[0m \u001b[0minterp_type\u001b[0m \u001b[0;34m==\u001b[0m \u001b[0;34m\"vinterp\"\u001b[0m\u001b[0;34m:\u001b[0m\u001b[0;34m\u001b[0m\u001b[0;34m\u001b[0m\u001b[0m\n\u001b[0;32m-> 1736\u001b[0;31m             \u001b[0;32mreturn\u001b[0m \u001b[0m_set_vinterp_meta\u001b[0m\u001b[0;34m(\u001b[0m\u001b[0mwrapped\u001b[0m\u001b[0;34m,\u001b[0m \u001b[0minstance\u001b[0m\u001b[0;34m,\u001b[0m \u001b[0margs\u001b[0m\u001b[0;34m,\u001b[0m \u001b[0mkwargs\u001b[0m\u001b[0;34m)\u001b[0m\u001b[0;34m\u001b[0m\u001b[0;34m\u001b[0m\u001b[0m\n\u001b[0m\u001b[1;32m   1737\u001b[0m         \u001b[0;32melif\u001b[0m \u001b[0minterp_type\u001b[0m \u001b[0;34m==\u001b[0m \u001b[0;34m\"2dxy\"\u001b[0m\u001b[0;34m:\u001b[0m\u001b[0;34m\u001b[0m\u001b[0;34m\u001b[0m\u001b[0m\n\u001b[1;32m   1738\u001b[0m             \u001b[0;32mreturn\u001b[0m \u001b[0m_set_2dxy_meta\u001b[0m\u001b[0;34m(\u001b[0m\u001b[0mwrapped\u001b[0m\u001b[0;34m,\u001b[0m \u001b[0minstance\u001b[0m\u001b[0;34m,\u001b[0m \u001b[0margs\u001b[0m\u001b[0;34m,\u001b[0m \u001b[0mkwargs\u001b[0m\u001b[0;34m)\u001b[0m\u001b[0;34m\u001b[0m\u001b[0;34m\u001b[0m\u001b[0m\n",
      "\u001b[0;32m/ocean/projects/atm200007p/xjliu/miniconda3/lib/python3.9/site-packages/wrf/metadecorators.py\u001b[0m in \u001b[0;36m_set_vinterp_meta\u001b[0;34m(wrapped, instance, args, kwargs)\u001b[0m\n\u001b[1;32m   1402\u001b[0m     \u001b[0mfield_type\u001b[0m \u001b[0;34m=\u001b[0m \u001b[0margvars\u001b[0m\u001b[0;34m[\u001b[0m\u001b[0;34m\"field_type\"\u001b[0m\u001b[0;34m]\u001b[0m\u001b[0;34m\u001b[0m\u001b[0;34m\u001b[0m\u001b[0m\n\u001b[1;32m   1403\u001b[0m \u001b[0;34m\u001b[0m\u001b[0m\n\u001b[0;32m-> 1404\u001b[0;31m     \u001b[0mresult\u001b[0m \u001b[0;34m=\u001b[0m \u001b[0mwrapped\u001b[0m\u001b[0;34m(\u001b[0m\u001b[0;34m*\u001b[0m\u001b[0margs\u001b[0m\u001b[0;34m,\u001b[0m \u001b[0;34m**\u001b[0m\u001b[0mkwargs\u001b[0m\u001b[0;34m)\u001b[0m\u001b[0;34m\u001b[0m\u001b[0;34m\u001b[0m\u001b[0m\n\u001b[0m\u001b[1;32m   1405\u001b[0m \u001b[0;34m\u001b[0m\u001b[0m\n\u001b[1;32m   1406\u001b[0m     \u001b[0;31m# Defaults, in case the data isn't a DataArray\u001b[0m\u001b[0;34m\u001b[0m\u001b[0;34m\u001b[0m\u001b[0;34m\u001b[0m\u001b[0m\n",
      "\u001b[0;32m/ocean/projects/atm200007p/xjliu/miniconda3/lib/python3.9/site-packages/wrf/interp.py\u001b[0m in \u001b[0;36mvinterp\u001b[0;34m(wrfin, field, vert_coord, interp_levels, extrapolate, field_type, log_p, timeidx, method, squeeze, cache, meta)\u001b[0m\n\u001b[1;32m    744\u001b[0m \u001b[0;34m\u001b[0m\u001b[0m\n\u001b[1;32m    745\u001b[0m     \u001b[0;31m# Extract variables\u001b[0m\u001b[0;34m\u001b[0m\u001b[0;34m\u001b[0m\u001b[0;34m\u001b[0m\u001b[0m\n\u001b[0;32m--> 746\u001b[0;31m     ncvars = extract_vars(_wrfin, timeidx, (\"PSFC\", \"QVAPOR\"),\n\u001b[0m\u001b[1;32m    747\u001b[0m                           method, squeeze, cache, meta=False, _key=_key)\n\u001b[1;32m    748\u001b[0m \u001b[0;34m\u001b[0m\u001b[0m\n",
      "\u001b[0;32m/ocean/projects/atm200007p/xjliu/miniconda3/lib/python3.9/site-packages/wrf/util.py\u001b[0m in \u001b[0;36mextract_vars\u001b[0;34m(wrfin, timeidx, varnames, method, squeeze, cache, meta, _key)\u001b[0m\n\u001b[1;32m   2288\u001b[0m         \u001b[0mvarlist\u001b[0m \u001b[0;34m=\u001b[0m \u001b[0mvarnames\u001b[0m\u001b[0;34m\u001b[0m\u001b[0;34m\u001b[0m\u001b[0m\n\u001b[1;32m   2289\u001b[0m \u001b[0;34m\u001b[0m\u001b[0m\n\u001b[0;32m-> 2290\u001b[0;31m     return {var: _extract_var(wrfin, var, timeidx, None,\n\u001b[0m\u001b[1;32m   2291\u001b[0m                               method, squeeze, cache, meta, _key)\n\u001b[1;32m   2292\u001b[0m             for var in varlist}\n",
      "\u001b[0;32m/ocean/projects/atm200007p/xjliu/miniconda3/lib/python3.9/site-packages/wrf/util.py\u001b[0m in \u001b[0;36m<dictcomp>\u001b[0;34m(.0)\u001b[0m\n\u001b[1;32m   2288\u001b[0m         \u001b[0mvarlist\u001b[0m \u001b[0;34m=\u001b[0m \u001b[0mvarnames\u001b[0m\u001b[0;34m\u001b[0m\u001b[0;34m\u001b[0m\u001b[0m\n\u001b[1;32m   2289\u001b[0m \u001b[0;34m\u001b[0m\u001b[0m\n\u001b[0;32m-> 2290\u001b[0;31m     return {var: _extract_var(wrfin, var, timeidx, None,\n\u001b[0m\u001b[1;32m   2291\u001b[0m                               method, squeeze, cache, meta, _key)\n\u001b[1;32m   2292\u001b[0m             for var in varlist}\n",
      "\u001b[0;32m/ocean/projects/atm200007p/xjliu/miniconda3/lib/python3.9/site-packages/wrf/util.py\u001b[0m in \u001b[0;36m_extract_var\u001b[0;34m(wrfin, varname, timeidx, is_moving, method, squeeze, cache, meta, _key)\u001b[0m\n\u001b[1;32m   2219\u001b[0m         \u001b[0;32melse\u001b[0m\u001b[0;34m:\u001b[0m\u001b[0;34m\u001b[0m\u001b[0;34m\u001b[0m\u001b[0m\n\u001b[1;32m   2220\u001b[0m             \u001b[0;32mif\u001b[0m \u001b[0;32mnot\u001b[0m \u001b[0mmultitime\u001b[0m\u001b[0;34m:\u001b[0m\u001b[0;34m\u001b[0m\u001b[0;34m\u001b[0m\u001b[0m\n\u001b[0;32m-> 2221\u001b[0;31m                 \u001b[0mresult\u001b[0m \u001b[0;34m=\u001b[0m \u001b[0mwrfin\u001b[0m\u001b[0;34m.\u001b[0m\u001b[0mvariables\u001b[0m\u001b[0;34m[\u001b[0m\u001b[0mvarname\u001b[0m\u001b[0;34m]\u001b[0m\u001b[0;34m[\u001b[0m\u001b[0mtimeidx\u001b[0m\u001b[0;34m,\u001b[0m \u001b[0;34m:\u001b[0m\u001b[0;34m]\u001b[0m\u001b[0;34m\u001b[0m\u001b[0;34m\u001b[0m\u001b[0m\n\u001b[0m\u001b[1;32m   2222\u001b[0m                 \u001b[0mresult\u001b[0m \u001b[0;34m=\u001b[0m \u001b[0mresult\u001b[0m\u001b[0;34m[\u001b[0m\u001b[0mnp\u001b[0m\u001b[0;34m.\u001b[0m\u001b[0mnewaxis\u001b[0m\u001b[0;34m,\u001b[0m \u001b[0;34m:\u001b[0m\u001b[0;34m]\u001b[0m  \u001b[0;31m# So that no squeeze works\u001b[0m\u001b[0;34m\u001b[0m\u001b[0;34m\u001b[0m\u001b[0m\n\u001b[1;32m   2223\u001b[0m             \u001b[0;32melse\u001b[0m\u001b[0;34m:\u001b[0m\u001b[0;34m\u001b[0m\u001b[0;34m\u001b[0m\u001b[0m\n",
      "\u001b[0;31mKeyError\u001b[0m: 'PSFC'"
     ]
    }
   ],
   "source": [
    "T0_areaave = np.zeros((24*20,12))\n",
    "T0_IL_areaave = np.zeros((24*20,12))\n",
    "T0_out_areaave = np.zeros((24*20,12))\n",
    "T1_areaave = np.zeros((24*20,12))\n",
    "T1_IL_areaave = np.zeros((24*20,12))\n",
    "T1_out_areaave = np.zeros((24*20,12))\n",
    "\n",
    "int_levels=[1000,975,925,850,750,700,600,500,400,300,200,100]\n",
    "vert_coord=\"pressure\"\n",
    "files0 = glob.glob(path+'Amazon6mon/3Dfields_d01_2014-09-*')\n",
    "files0.sort()\n",
    "files0\n",
    "\n",
    "files1 = glob.glob(path+'Amazon6mon_ILgrassland/3Dfields_d01_2014-09-*')\n",
    "files1.sort()\n",
    "files1\n",
    "\n",
    "dif_lu = lu1-lu0\n",
    "\n",
    "for ii in range(24*20):\n",
    "    \n",
    "    ncfile0 = Dataset(files0[24*10+ii])\n",
    "    # Get the Sea Level Pressure\n",
    "    theta0 = getvar(ncfile0, \"theta\")\n",
    "\n",
    "    ncfile1 = Dataset(files1[24*10+ii])\n",
    "    theta1 = getvar(ncfile1, \"theta\")\n",
    "    \n",
    "    # vertical interpolation\n",
    "    T_vint0 = vinterp(ncfile0,theta0,\"pressure\",int_levels)\n",
    "    T_vint1 = vinterp(ncfile1,theta1,\"pressure\",int_levels)\n",
    "    T0_IL = T_vint0.where(dif_lu>0,np.nan) # Inside IL\n",
    "    T0_out= T_vint0.where(dif_lu==0,np.nan) # outside IL\n",
    "    T1_IL = T_vint1.where(dif_lu>0,np.nan) # Inside IL\n",
    "    T1_out= T_vint1.where(dif_lu==0,np.nan) # outside IL\n",
    "    \n",
    "    T0_areaave[ii,:] = T_vint0.mean(('south_north','west_east'))\n",
    "    T0_IL_areaave[ii,:] = T0_IL.mean(('south_north','west_east'))\n",
    "    T0_out_areaave[ii,:] = T0_out.mean(('south_north','west_east'))\n",
    "\n",
    "    T1_areaave[ii,:] = T_vint1.mean(('south_north','west_east'))\n",
    "    T1_IL_areaave[ii,:] = T1_IL.mean(('south_north','west_east'))\n",
    "    T1_out_areaave[ii,:] = T1_out.mean(('south_north','west_east'))\n",
    "\n",
    "np.save(path+'post_processing/Amazon561x721/Theta_areaave.obs.201409.day11_20.npy',T0_areaave)\n",
    "np.save(path+'post_processing/Amazon561x721/Theta_IL_areaave.obs.201409.day11_20.npy',T0_IL_areaave)\n",
    "np.save(path+'post_processing/Amazon561x721/Theta_out_areaave.obs.201409.day11_20.day11_20.npy',T0_out_areaave)\n",
    "\n",
    "np.save(path+'post_processing/Amazon561x721/Theta_areaave.ILgrassland.201409.day11_20.npy',T1_areaave)\n",
    "np.save(path+'post_processing/Amazon561x721/Theta_IL_areaave.ILgrassland.201409.day11_20.npy',T1_IL_areaave)\n",
    "np.save(path+'post_processing/Amazon561x721/Theta_out_areaave.ILgrassland.201409.day11_20.npy',T1_out_areaave)"
   ]
  },
  {
   "cell_type": "code",
   "execution_count": null,
   "metadata": {},
   "outputs": [],
   "source": [
    "for ii in range(24*20):\n",
    "    \n",
    "    ncfile0 = Dataset(files0[24*10+ii])\n",
    "    # Get the Sea Level Pressure\n",
    "    theta0 = getvar(ncfile0, \"theta\")\n",
    "\n",
    "    ncfile1 = Dataset(files1[24*10+ii])\n",
    "    theta1 = getvar(ncfile1, \"theta\")\n",
    "    \n",
    "    # vertical interpolation\n",
    "    T_vint0 = vinterp(ncfile0,theta0,\"pressure\",int_levels)\n",
    "    T_vint1 = vinterp(ncfile1,theta1,\"pressure\",int_levels)\n",
    "    T0_IL = T_vint0.where(dif_lu>0,np.nan) # Inside IL\n",
    "    T0_out= T_vint0.where(dif_lu==0,np.nan) # outside IL\n",
    "    T1_IL = T_vint1.where(dif_lu>0,np.nan) # Inside IL\n",
    "    T1_out= T_vint1.where(dif_lu==0,np.nan) # outside IL\n",
    "    \n",
    "    T0_areaave[ii,:] = T_vint0.mean(('south_north','west_east'))\n",
    "    T0_IL_areaave[ii,:] = T0_IL.mean(('south_north','west_east'))\n",
    "    T0_out_areaave[ii,:] = T0_out.mean(('south_north','west_east'))\n",
    "\n",
    "    T1_areaave[ii,:] = T_vint1.mean(('south_north','west_east'))\n",
    "    T1_IL_areaave[ii,:] = T1_IL.mean(('south_north','west_east'))\n",
    "    T1_out_areaave[ii,:] = T1_out.mean(('south_north','west_east'))\n",
    "\n",
    "np.save(path+'post_processing/Amazon561x721/Theta_areaave.obs.201409.day11_20.npy',T0_areaave)\n",
    "np.save(path+'post_processing/Amazon561x721/Theta_IL_areaave.obs.201409.day11_20.npy',T0_IL_areaave)\n",
    "np.save(path+'post_processing/Amazon561x721/Theta_out_areaave.obs.201409.day11_20.day11_20.npy',T0_out_areaave)\n",
    "\n",
    "np.save(path+'post_processing/Amazon561x721/Theta_areaave.ILgrassland.201409.day11_20.npy',T1_areaave)\n",
    "np.save(path+'post_processing/Amazon561x721/Theta_IL_areaave.ILgrassland.201409.day11_20.npy',T1_IL_areaave)\n",
    "np.save(path+'post_processing/Amazon561x721/Theta_out_areaave.ILgrassland.201409.day11_20.npy',T1_out_areaave)"
   ]
  }
 ],
 "metadata": {
  "kernelspec": {
   "display_name": "Python_Xiaojuan",
   "language": "python",
   "name": "xiaojuan_python"
  },
  "language_info": {
   "codemirror_mode": {
    "name": "ipython",
    "version": 3
   },
   "file_extension": ".py",
   "mimetype": "text/x-python",
   "name": "python",
   "nbconvert_exporter": "python",
   "pygments_lexer": "ipython3",
   "version": "3.9.5"
  }
 },
 "nbformat": 4,
 "nbformat_minor": 4
}
